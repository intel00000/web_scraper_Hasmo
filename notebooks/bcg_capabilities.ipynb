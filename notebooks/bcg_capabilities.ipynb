{
 "cells": [
  {
   "cell_type": "code",
   "execution_count": 1,
   "metadata": {},
   "outputs": [
    {
     "name": "stdout",
     "output_type": "stream",
     "text": [
      "Title: Artificial Intelligence, Description: Scaling artificial intelligence can create a massive competitive advantage. Learn how our AI-driven initiatives have helped clients extract value., Link: https://www.bcg.com/capabilities/artificial-intelligence\n",
      "Title: Business Resilience, Description: Leaders face an uncertain landscape. The impact of each decision feels impossible to predict, which is why they need strategies that are proactive, resilient, and competitive. No matter their starting point, BCG can help., Link: https://www.bcg.com/capabilities/business-resilience\n",
      "Title: Business Transformation, Description: Even today’s leading companies could benefit from an always-on transformation capability—the kind that engenders resilience and leads to long-term value creation. BCG knows what it takes to build this muscle., Link: https://www.bcg.com/capabilities/business-transformation/overview\n",
      "Title: Business and Organizational Purpose, Description: Excavating purpose is among the rewarding journeys companies can take. BCG BrightHouse helps organizations embrace purpose to achieve higher returns, employee engagement, and customer satisfaction., Link: https://www.bcg.com/capabilities/business-organizational-purpose/overview\n",
      "Title: Climate Change and Sustainability, Description: The time for global climate action is now. BCG helps clients accelerate their climate and sustainability journey and seize new opportunities to build competitive advantage., Link: https://www.bcg.com/capabilities/climate-change-sustainability/overview\n",
      "Title: Corporate Finance and Strategy, Description: The rules of business, and for maintaining competitive advantage, are changing. We help companies reimagine strategy and value creation in a fast-paced world., Link: https://www.bcg.com/capabilities/corporate-finance-strategy/overview\n",
      "Title: Cost Management, Description: BCG’s cost advantage approach resets costs within a framework that is customized, precise, and thorough., Link: https://www.bcg.com/capabilities/cost-management\n",
      "Title: Customer Insights, Description: Having rich customer insights allows companies to solve pressing business problems and capture growth opportunities. BCG’s Center for Customer Insight arms companies with the tools they need to unlock this advantage., Link: https://www.bcg.com/capabilities/customer-insights/overview\n",
      "Title: Digital, Technology, and Data, Description: BCG identifies and delivers high-impact programs to build companies of the future that will outperform the competition in the future., Link: https://www.bcg.com/capabilities/digital-technology-data/overview\n",
      "Title: Diversity, Equity, and Inclusion, Description: Our work enables clients to build teams that fully reflect the diversity in the world and in the communities they serve—and empowers them to advance their businesses and our society., Link: https://www.bcg.com/capabilities/diversity-inclusion/overview\n",
      "Title: Innovation Strategy and Delivery, Description: Innovation is extremely difficult—but also necessary. We collaborate closely with organizations on holistic innovation journeys to help them secure long-term competitive advantage., Link: https://www.bcg.com/capabilities/innovation-strategy-delivery/overview\n",
      "Title: International Business, Description: We stand side by side with our clients, offering expertise and strategy as they look to expand the boundaries of their businesses in an uncertain and sometimes tumultuous world., Link: https://www.bcg.com/capabilities/international-business/overview\n",
      "Title: M&A, Transactions, and PMI, Description: BCG provides the strategic decision-making capabilities and proactive portfolio management companies need to create value from M&A, transactions, and PMI., Link: https://www.bcg.com/capabilities/mergers-acquisitions-transactions-pmi/overview\n",
      "Title: Manufacturing, Description: We ask three guiding questions: when, where, and how will you manufacture in an era of emerging technologies and economic uncertainty? We’re committed to helping our clients arrive at answers that are right for them., Link: https://www.bcg.com/capabilities/manufacturing/overview\n",
      "Title: Marketing and Sales, Description: Customer centricity is key—and made possible through analytics, agile processes, and a test-and-learn culture. BCG partners with marketing and sales organizations to make it happen., Link: https://www.bcg.com/capabilities/marketing-sales/overview\n",
      "Title: Operations, Description: We help clients unlock value from every aspect of their operations, maximizing efficiency and effectiveness in procurement, service operations, supply chains, and beyond., Link: https://www.bcg.com/capabilities/operations/overview\n",
      "Title: Organization Strategy, Description: Organization is at the core of nearly everything we do at BCG. We believe that when clients have the right organization design, the possibilities are endless., Link: https://www.bcg.com/capabilities/organization-strategy/overview\n",
      "Title: People Strategy, Description: Any company’s most important asset is its people. Our experts in leadership, culture, talent, reskilling, and HR help businesses respond to current and future challenges., Link: https://www.bcg.com/capabilities/people-strategy/overview\n",
      "Title: Pricing and Revenue Management, Description: We bring expertise and data-driven strategies to help clients unleash the power of effective pricing—and unlock its potential to increase the bottom line., Link: https://www.bcg.com/capabilities/pricing-revenue-management/overview\n",
      "Title: Risk Management and Compliance, Description: BCG's Risk and Compliance consulting supports their client's growth ambition with strategic, transformational, and technical functional offerings in Finance., Link: https://www.bcg.com/capabilities/risk-management-and-compliance/overview\n",
      "Title: Social Impact, Description: By focusing on tangible ways to generate positive social impact (related to climate change, global education, racial equity, and more), we help organizations tackle some of the most pressing issues facing our world today., Link: https://www.bcg.com/capabilities/social-impact/overview\n",
      "Title: Zero-Based Budgeting, Description: Zero-based budgeting is a powerful strategy that yields significant benefits. Our approach fosters a culture of cost-consciousness, growth, and innovation., Link: https://www.bcg.com/capabilities/zero-based-budgeting/overview\n"
     ]
    }
   ],
   "source": [
    "import requests\n",
    "import helper_functions\n",
    "from bs4 import BeautifulSoup\n",
    "\n",
    "# Fetch the webpage content\n",
    "name = \"bcg_capabilities\"\n",
    "url = \"https://www.bcg.com/capabilities\"\n",
    "response = requests.get(url)\n",
    "webpage_content = response.content\n",
    "\n",
    "# Parse the content with BeautifulSoup\n",
    "soup = BeautifulSoup(webpage_content, \"html.parser\")\n",
    "\n",
    "# Locate the main container for the info\n",
    "main_container = soup.find(\"div\", class_=\"featured-collection container-1\")\n",
    "\n",
    "# Find all the blocks of information within the container\n",
    "info_blocks = main_container.find_all(\"div\", class_=\"featured-collection__block\")\n",
    "\n",
    "# Extract the title, description, and href for each block\n",
    "data = []\n",
    "\n",
    "for block in info_blocks:\n",
    "    title_tag = block.find(\"p\", class_=\"featured-collection__title\")\n",
    "    description_tag = block.find(\"p\", class_=\"featured-collection__content\")\n",
    "    href_tag = block.find(\"a\", href=True)\n",
    "\n",
    "    if title_tag and description_tag and href_tag:\n",
    "        title = title_tag.get_text(strip=True)\n",
    "        description = description_tag.get_text(strip=True)\n",
    "        href = href_tag[\"href\"]\n",
    "\n",
    "        data.append({\"title\": title, \"description\": description, \"link\": href})\n",
    "        print(f\"Title: {title}, Description: {description}, Link: {href}\")"
   ]
  },
  {
   "cell_type": "code",
   "execution_count": 2,
   "metadata": {},
   "outputs": [
    {
     "name": "stdout",
     "output_type": "stream",
     "text": [
      "Data has been exported to c:\\Users\\R9000P\\web_scraper_Hasmo\\notebooks\\..\\data\\bcg_capabilities_20240820_144124.json and c:\\Users\\R9000P\\web_scraper_Hasmo\\notebooks\\..\\data\\bcg_capabilities_20240820_144124.csv\n"
     ]
    }
   ],
   "source": [
    "helper_functions.file_exporter(name=name, data=data)"
   ]
  },
  {
   "cell_type": "code",
   "execution_count": 3,
   "metadata": {},
   "outputs": [
    {
     "name": "stdout",
     "output_type": "stream",
     "text": [
      "Rate limit exceeded, retrying in 2.44 seconds...\n",
      "Rate limit exceeded, retrying in 4.63 seconds...\n",
      "Rate limit exceeded, retrying in 8.91 seconds...\n",
      "Rate limit exceeded, retrying in 16.84 seconds...\n",
      "Rate limit exceeded, retrying in 32.00 seconds...\n",
      "Rate limit exceeded, retrying in 32.00 seconds...\n",
      "GoogleSheetsPipeline finished processing and saved data to https://docs.google.com/spreadsheets/d/1qmPXhTIHutHWUto37O97aKG-vW2A1fCzD6WqbqJu9v4\n"
     ]
    }
   ],
   "source": [
    "GoogleSheetsPipeline = helper_functions.GoogleSheetsPipeline(\n",
    "    spreadsheet_name=\"Web Scraping Data\", worksheet_name=name\n",
    ")\n",
    "GoogleSheetsPipeline.open_connection()\n",
    "GoogleSheetsPipeline.process_data(data)\n",
    "GoogleSheetsPipeline.close_connection()"
   ]
  }
 ],
 "metadata": {
  "kernelspec": {
   "display_name": "venv",
   "language": "python",
   "name": "python3"
  },
  "language_info": {
   "codemirror_mode": {
    "name": "ipython",
    "version": 3
   },
   "file_extension": ".py",
   "mimetype": "text/x-python",
   "name": "python",
   "nbconvert_exporter": "python",
   "pygments_lexer": "ipython3",
   "version": "3.11.5"
  }
 },
 "nbformat": 4,
 "nbformat_minor": 2
}
