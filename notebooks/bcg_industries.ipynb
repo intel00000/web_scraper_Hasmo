{
 "cells": [
  {
   "cell_type": "code",
   "execution_count": 1,
   "metadata": {},
   "outputs": [
    {
     "name": "stdout",
     "output_type": "stream",
     "text": [
      "Title: Aerospace and Defense, Description: Our aerospace and defense experts help industry players navigate their day-to-day operations and identify ways they can innovate for the future., Link: https://www.bcg.com/industries/aerospace-defense/overview\n",
      "Title: Automotive Industry, Description: Breakthroughs in automotive technologies and emerging business models are changing the world. We help the leading game changers stay ahead of the curve., Link: https://www.bcg.com/industries/automotive/overview\n",
      "Title: Consumer Products Industry, Description: Brands around the world must master digital to survive. We have the expertise and capabilities to power consumer-centric innovation grounded in data, analytics, and AI., Link: https://www.bcg.com/industries/consumer-products-industry/overview\n",
      "Title: Education, Description: We partner with effective organizations and educators to improve student outcomes and learning models—from K-12 through higher education—locally, nationally, and globally., Link: https://www.bcg.com/industries/education/overview\n",
      "Title: Energy, Description: BCG’s energy consultants work with business leaders, governments, and ecosystems to create energy solutions for a net-zero pathway and beyond - that are practical, equitable, and just., Link: https://www.bcg.com/industries/energy/overview\n",
      "Title: Financial Institutions, Description: BCG helps global and regional financial institutions build for the future using digital innovations and an ESG focus to drive fundamental change and deliver on evolving customer demands., Link: https://www.bcg.com/industries/financial-institutions/overview\n",
      "Title: Health Care Industry, Description: We work with organizations around the globe to transform health care operating models so they are able to deliver medical breakthroughs, innovative cures, and transformative patient experiences., Link: https://www.bcg.com/industries/health-care/overview\n",
      "Title: Industrial Goods, Description: Our experts provide industrial goods clients with the skills they need to adapt to change and rethink their business models in their rapidly evolving industries., Link: https://www.bcg.com/industries/industrial-goods/overview\n",
      "Title: Insurance Industry, Description: Customers increasingly expect more from insurers. BCG helps companies rise to the challenge and equips them to lead in the digital future., Link: https://www.bcg.com/industries/insurance/overview\n",
      "Title: Principal Investors and Private Equity, Description: The rapid growth of private capital brings unprecedented opportunities to unlock value while making a positive difference in the world. BCG advises leading investors on how to stay ahead., Link: https://www.bcg.com/industries/principal-investors-private-equity/overview\n",
      "Title: Public Sector, Description: BCG’s Public Sector practice joins forces with global organizations and governments to transform how they operate so they can better meet increasingly challenging and complex societal problems., Link: https://www.bcg.com/industries/public-sector/overview\n",
      "Title: Retail Industry, Description: We help the world's leading retailers compete in the digital era by developing and delivering cutting-edge tech strategies and identifying new sources of growth., Link: https://www.bcg.com/industries/retail/overview\n",
      "Title: Technology, Media, and Telecommunications, Description: BCG collaborates with technology, media, and telecommunications companies to solve problems and pursue new strategies as they continue to shape the future., Link: https://www.bcg.com/industries/technology-media-telecommunications/overview\n",
      "Title: Transportation and Logistics, Description: We empower clients to boldly reinvent themselves and embrace digital innovation so they can better serve their customers amid today’s volatility., Link: https://www.bcg.com/industries/transportation-logistics/overview\n",
      "Title: Travel and Tourism, Description: The industry has suffered an unprecedented shock. BCG collaborates with travel and tourism providers as they navigate this turbulence and build resilience for the future., Link: https://www.bcg.com/industries/travel-tourism/overview\n",
      "Title: US Public Sector and Government, Description: BCG’s US public sector consulting teams help agencies surmount challenges so they can fulfill their mandates more effectively than ever., Link: https://www.bcg.com/industries/public-sector/us-public-sector-and-government\n"
     ]
    }
   ],
   "source": [
    "import requests\n",
    "import helper_functions\n",
    "from bs4 import BeautifulSoup\n",
    "\n",
    "\n",
    "# Fetch the webpage content\n",
    "name = \"bcg_industries\"\n",
    "url = \"https://www.bcg.com/industries\"\n",
    "response = requests.get(url)\n",
    "webpage_content = response.content\n",
    "\n",
    "# Parse the content with BeautifulSoup\n",
    "soup = BeautifulSoup(webpage_content, \"html.parser\")\n",
    "\n",
    "# Locate the main container for the info\n",
    "main_container = soup.find(\"div\", class_=\"featured-collection container-1\")\n",
    "\n",
    "# Find all the blocks of information within the container\n",
    "info_blocks = main_container.find_all(\"div\", class_=\"featured-collection__block\")\n",
    "\n",
    "# Extract the title, description, and href for each block\n",
    "data = []\n",
    "\n",
    "for block in info_blocks:\n",
    "    title_tag = block.find(\"p\", class_=\"featured-collection__title\")\n",
    "    description_tag = block.find(\"p\", class_=\"featured-collection__content\")\n",
    "    href_tag = block.find(\"a\", href=True)\n",
    "\n",
    "    if title_tag and description_tag and href_tag:\n",
    "        title = title_tag.get_text(strip=True)\n",
    "        description = description_tag.get_text(strip=True)\n",
    "        href = href_tag[\"href\"]\n",
    "\n",
    "        data.append({\"title\": title, \"description\": description, \"link\": href})\n",
    "        print(f\"Title: {title}, Description: {description}, Link: {href}\")"
   ]
  },
  {
   "cell_type": "code",
   "execution_count": 2,
   "metadata": {},
   "outputs": [
    {
     "name": "stdout",
     "output_type": "stream",
     "text": [
      "Data has been exported to c:\\Users\\R9000P\\web_scraper_Hasmo\\notebooks\\..\\data\\bcg_industries_20240820_144410.json and c:\\Users\\R9000P\\web_scraper_Hasmo\\notebooks\\..\\data\\bcg_industries_20240820_144410.csv\n"
     ]
    }
   ],
   "source": [
    "helper_functions.file_exporter(name=name, data=data)"
   ]
  },
  {
   "cell_type": "code",
   "execution_count": 3,
   "metadata": {},
   "outputs": [
    {
     "name": "stdout",
     "output_type": "stream",
     "text": [
      "GoogleSheetsPipeline finished processing and saved data to https://docs.google.com/spreadsheets/d/1qmPXhTIHutHWUto37O97aKG-vW2A1fCzD6WqbqJu9v4\n"
     ]
    }
   ],
   "source": [
    "GoogleSheetsPipeline = helper_functions.GoogleSheetsPipeline(\n",
    "    spreadsheet_name=\"Web Scraping Data\", worksheet_name=name\n",
    ")\n",
    "GoogleSheetsPipeline.open_connection()\n",
    "GoogleSheetsPipeline.process_data(data)\n",
    "GoogleSheetsPipeline.close_connection()"
   ]
  }
 ],
 "metadata": {
  "kernelspec": {
   "display_name": "venv",
   "language": "python",
   "name": "python3"
  },
  "language_info": {
   "codemirror_mode": {
    "name": "ipython",
    "version": 3
   },
   "file_extension": ".py",
   "mimetype": "text/x-python",
   "name": "python",
   "nbconvert_exporter": "python",
   "pygments_lexer": "ipython3",
   "version": "3.11.5"
  }
 },
 "nbformat": 4,
 "nbformat_minor": 2
}
